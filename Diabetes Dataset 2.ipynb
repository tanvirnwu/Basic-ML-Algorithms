{
 "cells": [
  {
   "cell_type": "code",
   "execution_count": 1,
   "id": "9327f70d",
   "metadata": {},
   "outputs": [],
   "source": [
    "import pandas as pd\n",
    "import numpy as np\n",
    "import matplotlib.pyplot as plt\n",
    "import seaborn as sns\n",
    "%matplotlib inline\n",
    "import warnings\n",
    "warnings.filterwarnings('ignore')"
   ]
  },
  {
   "cell_type": "code",
   "execution_count": 2,
   "id": "46d3fcf1",
   "metadata": {},
   "outputs": [],
   "source": [
    "df = pd.read_csv('Datasets\\diabetes 1.csv')\n",
    "pd.set_option('display.max_columns', None)\n",
    "pd.set_option('display.max_rows', None)"
   ]
  },
  {
   "cell_type": "code",
   "execution_count": 3,
   "id": "a8449aa7",
   "metadata": {},
   "outputs": [
    {
     "data": {
      "text/html": [
       "<div>\n",
       "<style scoped>\n",
       "    .dataframe tbody tr th:only-of-type {\n",
       "        vertical-align: middle;\n",
       "    }\n",
       "\n",
       "    .dataframe tbody tr th {\n",
       "        vertical-align: top;\n",
       "    }\n",
       "\n",
       "    .dataframe thead th {\n",
       "        text-align: right;\n",
       "    }\n",
       "</style>\n",
       "<table border=\"1\" class=\"dataframe\">\n",
       "  <thead>\n",
       "    <tr style=\"text-align: right;\">\n",
       "      <th></th>\n",
       "      <th>name</th>\n",
       "      <th>age</th>\n",
       "      <th>gender</th>\n",
       "      <th>drug_history</th>\n",
       "      <th>weightloss</th>\n",
       "      <th>diastolic_bp</th>\n",
       "      <th>systolic_bp</th>\n",
       "      <th>duration_of_diabetes</th>\n",
       "      <th>height</th>\n",
       "      <th>weight</th>\n",
       "      <th>blood_sugar_before_eating</th>\n",
       "      <th>blood_sugar_after_eating</th>\n",
       "      <th>urine_color_before_eating</th>\n",
       "      <th>urine_color_after_eating</th>\n",
       "      <th>waist</th>\n",
       "      <th>thirst</th>\n",
       "      <th>hunger</th>\n",
       "      <th>relatives</th>\n",
       "      <th>pain_numbness</th>\n",
       "      <th>blurred_vision</th>\n",
       "      <th>type_of_medicine</th>\n",
       "      <th>family_stoke</th>\n",
       "      <th>physical_activity</th>\n",
       "      <th>classes</th>\n",
       "    </tr>\n",
       "  </thead>\n",
       "  <tbody>\n",
       "    <tr>\n",
       "      <th>0</th>\n",
       "      <td>Sabina</td>\n",
       "      <td>25</td>\n",
       "      <td>female</td>\n",
       "      <td>no</td>\n",
       "      <td>no</td>\n",
       "      <td>100</td>\n",
       "      <td>80</td>\n",
       "      <td>0</td>\n",
       "      <td>148.0</td>\n",
       "      <td>47.0</td>\n",
       "      <td>3.07</td>\n",
       "      <td>5.8</td>\n",
       "      <td>nil</td>\n",
       "      <td>nil</td>\n",
       "      <td>32.0</td>\n",
       "      <td>yes</td>\n",
       "      <td>no</td>\n",
       "      <td>yes</td>\n",
       "      <td>yes</td>\n",
       "      <td>yes</td>\n",
       "      <td>no</td>\n",
       "      <td>yes</td>\n",
       "      <td>yes</td>\n",
       "      <td>no</td>\n",
       "    </tr>\n",
       "    <tr>\n",
       "      <th>1</th>\n",
       "      <td>Luvly Sahah</td>\n",
       "      <td>32</td>\n",
       "      <td>female</td>\n",
       "      <td>yes</td>\n",
       "      <td>no</td>\n",
       "      <td>120</td>\n",
       "      <td>80</td>\n",
       "      <td>730</td>\n",
       "      <td>152.0</td>\n",
       "      <td>65.0</td>\n",
       "      <td>14.30</td>\n",
       "      <td>19.4</td>\n",
       "      <td>yellow</td>\n",
       "      <td>orange</td>\n",
       "      <td>39.0</td>\n",
       "      <td>yes</td>\n",
       "      <td>yes</td>\n",
       "      <td>yes</td>\n",
       "      <td>yes</td>\n",
       "      <td>yes</td>\n",
       "      <td>insuline</td>\n",
       "      <td>no</td>\n",
       "      <td>yes</td>\n",
       "      <td>yes</td>\n",
       "    </tr>\n",
       "    <tr>\n",
       "      <th>2</th>\n",
       "      <td>Khan Kamrujjaman</td>\n",
       "      <td>35</td>\n",
       "      <td>male</td>\n",
       "      <td>yes</td>\n",
       "      <td>yes</td>\n",
       "      <td>110</td>\n",
       "      <td>80</td>\n",
       "      <td>1460</td>\n",
       "      <td>168.0</td>\n",
       "      <td>82.0</td>\n",
       "      <td>16.10</td>\n",
       "      <td>24.3</td>\n",
       "      <td>orange</td>\n",
       "      <td>red</td>\n",
       "      <td>38.0</td>\n",
       "      <td>yes</td>\n",
       "      <td>yes</td>\n",
       "      <td>yes</td>\n",
       "      <td>yes</td>\n",
       "      <td>yes</td>\n",
       "      <td>insuline</td>\n",
       "      <td>no</td>\n",
       "      <td>yes</td>\n",
       "      <td>yes</td>\n",
       "    </tr>\n",
       "    <tr>\n",
       "      <th>3</th>\n",
       "      <td>Monira Begum</td>\n",
       "      <td>35</td>\n",
       "      <td>female</td>\n",
       "      <td>no</td>\n",
       "      <td>no</td>\n",
       "      <td>120</td>\n",
       "      <td>80</td>\n",
       "      <td>60</td>\n",
       "      <td>154.0</td>\n",
       "      <td>57.0</td>\n",
       "      <td>10.20</td>\n",
       "      <td>19.0</td>\n",
       "      <td>green</td>\n",
       "      <td>orange</td>\n",
       "      <td>35.0</td>\n",
       "      <td>no</td>\n",
       "      <td>no</td>\n",
       "      <td>yes</td>\n",
       "      <td>yes</td>\n",
       "      <td>no</td>\n",
       "      <td>tab</td>\n",
       "      <td>no</td>\n",
       "      <td>yes</td>\n",
       "      <td>yes</td>\n",
       "    </tr>\n",
       "    <tr>\n",
       "      <th>4</th>\n",
       "      <td>Mrs. Shirin haque</td>\n",
       "      <td>45</td>\n",
       "      <td>female</td>\n",
       "      <td>no</td>\n",
       "      <td>yes</td>\n",
       "      <td>120</td>\n",
       "      <td>80</td>\n",
       "      <td>0</td>\n",
       "      <td>156.0</td>\n",
       "      <td>66.0</td>\n",
       "      <td>13.50</td>\n",
       "      <td>20.3</td>\n",
       "      <td>yellow</td>\n",
       "      <td>orange</td>\n",
       "      <td>36.0</td>\n",
       "      <td>yes</td>\n",
       "      <td>yes</td>\n",
       "      <td>no</td>\n",
       "      <td>no</td>\n",
       "      <td>yes</td>\n",
       "      <td>insuline</td>\n",
       "      <td>no</td>\n",
       "      <td>yes</td>\n",
       "      <td>yes</td>\n",
       "    </tr>\n",
       "  </tbody>\n",
       "</table>\n",
       "</div>"
      ],
      "text/plain": [
       "                name  age  gender drug_history weightloss  diastolic_bp  \\\n",
       "0             Sabina   25  female           no         no           100   \n",
       "1        Luvly Sahah   32  female          yes         no           120   \n",
       "2   Khan Kamrujjaman   35    male          yes        yes           110   \n",
       "3       Monira Begum   35  female           no         no           120   \n",
       "4  Mrs. Shirin haque   45  female           no        yes           120   \n",
       "\n",
       "   systolic_bp  duration_of_diabetes  height  weight  \\\n",
       "0           80                     0   148.0    47.0   \n",
       "1           80                   730   152.0    65.0   \n",
       "2           80                  1460   168.0    82.0   \n",
       "3           80                    60   154.0    57.0   \n",
       "4           80                     0   156.0    66.0   \n",
       "\n",
       "   blood_sugar_before_eating  blood_sugar_after_eating  \\\n",
       "0                       3.07                       5.8   \n",
       "1                      14.30                      19.4   \n",
       "2                      16.10                      24.3   \n",
       "3                      10.20                      19.0   \n",
       "4                      13.50                      20.3   \n",
       "\n",
       "  urine_color_before_eating urine_color_after_eating  waist thirst hunger  \\\n",
       "0                       nil                      nil   32.0    yes     no   \n",
       "1                    yellow                   orange   39.0    yes    yes   \n",
       "2                    orange                      red   38.0    yes    yes   \n",
       "3                     green                   orange   35.0     no     no   \n",
       "4                    yellow                   orange   36.0    yes    yes   \n",
       "\n",
       "  relatives pain_numbness blurred_vision type_of_medicine family_stoke  \\\n",
       "0       yes           yes            yes               no          yes   \n",
       "1       yes           yes            yes         insuline           no   \n",
       "2       yes           yes            yes         insuline           no   \n",
       "3       yes           yes             no              tab           no   \n",
       "4        no            no            yes         insuline           no   \n",
       "\n",
       "  physical_activity classes  \n",
       "0               yes      no  \n",
       "1               yes     yes  \n",
       "2               yes     yes  \n",
       "3               yes     yes  \n",
       "4               yes     yes  "
      ]
     },
     "execution_count": 3,
     "metadata": {},
     "output_type": "execute_result"
    }
   ],
   "source": [
    "df.head()"
   ]
  },
  {
   "cell_type": "code",
   "execution_count": 4,
   "id": "92d07513",
   "metadata": {},
   "outputs": [
    {
     "data": {
      "text/plain": [
       "(464, 24)"
      ]
     },
     "execution_count": 4,
     "metadata": {},
     "output_type": "execute_result"
    }
   ],
   "source": [
    "df.shape"
   ]
  },
  {
   "cell_type": "code",
   "execution_count": 5,
   "id": "48d0a950",
   "metadata": {},
   "outputs": [
    {
     "data": {
      "text/plain": [
       "name                          0\n",
       "age                           0\n",
       "gender                        0\n",
       "drug_history                  0\n",
       "weightloss                    0\n",
       "diastolic_bp                  0\n",
       "systolic_bp                   0\n",
       "duration_of_diabetes          0\n",
       "height                        0\n",
       "weight                       77\n",
       "blood_sugar_before_eating     0\n",
       "blood_sugar_after_eating      0\n",
       "urine_color_before_eating     0\n",
       "urine_color_after_eating      0\n",
       "waist                         0\n",
       "thirst                        0\n",
       "hunger                        0\n",
       "relatives                     0\n",
       "pain_numbness                 0\n",
       "blurred_vision                0\n",
       "type_of_medicine              0\n",
       "family_stoke                  0\n",
       "physical_activity             0\n",
       "classes                       0\n",
       "dtype: int64"
      ]
     },
     "execution_count": 5,
     "metadata": {},
     "output_type": "execute_result"
    }
   ],
   "source": [
    "df.isnull().sum()"
   ]
  },
  {
   "cell_type": "code",
   "execution_count": 6,
   "id": "38412ae2",
   "metadata": {},
   "outputs": [
    {
     "data": {
      "text/plain": [
       "Index(['name', 'age', 'gender', 'drug_history', 'weightloss', 'diastolic_bp',\n",
       "       'systolic_bp', 'duration_of_diabetes', 'height', 'weight',\n",
       "       'blood_sugar_before_eating', 'blood_sugar_after_eating',\n",
       "       'urine_color_before_eating', 'urine_color_after_eating', 'waist',\n",
       "       'thirst', 'hunger', 'relatives', 'pain_numbness', 'blurred_vision',\n",
       "       'type_of_medicine', 'family_stoke', 'physical_activity', 'classes'],\n",
       "      dtype='object')"
      ]
     },
     "execution_count": 6,
     "metadata": {},
     "output_type": "execute_result"
    }
   ],
   "source": [
    "df.columns"
   ]
  },
  {
   "cell_type": "code",
   "execution_count": 8,
   "id": "f3f97b16",
   "metadata": {},
   "outputs": [],
   "source": [
    "unnecessary_cols=[]"
   ]
  },
  {
   "cell_type": "code",
   "execution_count": 12,
   "id": "cd2d5e35",
   "metadata": {},
   "outputs": [
    {
     "data": {
      "text/plain": [
       "yes    271\n",
       "no     193\n",
       "Name: relatives, dtype: int64"
      ]
     },
     "execution_count": 12,
     "metadata": {},
     "output_type": "execute_result"
    }
   ],
   "source": [
    "df.relatives.value_counts()"
   ]
  },
  {
   "cell_type": "code",
   "execution_count": 14,
   "id": "bc61395f",
   "metadata": {},
   "outputs": [
    {
     "data": {
      "text/plain": [
       "yes    302\n",
       "no     162\n",
       "Name: classes, dtype: int64"
      ]
     },
     "execution_count": 14,
     "metadata": {},
     "output_type": "execute_result"
    }
   ],
   "source": [
    "df.classes.value_counts()"
   ]
  },
  {
   "cell_type": "code",
   "execution_count": null,
   "id": "350a6035",
   "metadata": {},
   "outputs": [],
   "source": []
  }
 ],
 "metadata": {
  "kernelspec": {
   "display_name": "Python 3 (ipykernel)",
   "language": "python",
   "name": "python3"
  },
  "language_info": {
   "codemirror_mode": {
    "name": "ipython",
    "version": 3
   },
   "file_extension": ".py",
   "mimetype": "text/x-python",
   "name": "python",
   "nbconvert_exporter": "python",
   "pygments_lexer": "ipython3",
   "version": "3.10.9"
  }
 },
 "nbformat": 4,
 "nbformat_minor": 5
}
