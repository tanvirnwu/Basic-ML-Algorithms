{
 "cells": [
  {
   "cell_type": "markdown",
   "id": "82ac06cd",
   "metadata": {
    "papermill": {
     "duration": 0.00658,
     "end_time": "2023-10-22T17:26:48.082365",
     "exception": false,
     "start_time": "2023-10-22T17:26:48.075785",
     "status": "completed"
    },
    "tags": []
   },
   "source": [
    "## **Introduction of Linear Regression**\n",
    "\n",
    "Linear Regression is one of the cornerstone algorithms of supervised learning in the realm of Machine Learning and Statistics. Rooted in simplicity yet powerful in its applicability, Linear Regression strives to establish a linear relationship between the dependent and independent variables by finding the best fit straight line that accurately predict the output values within a range.\n",
    "\n",
    "In mathematical terms, Linear Regression aims to minimize the differences between the actual and predicted values by finding the best coefficients that multiply with the input features, thereby rendering a line that is the closest to the actual data points. Represented as:\n",
    "\n",
    "> **Y = aX + b**\n",
    "\n",
    "**where:**\n",
    "- Y is the output/dependent variable,\n",
    "- X is the input/independent variable,\n",
    "- a is the slope of the line (coefficient), and\n",
    "- b is the y-intercept.\n",
    "\n",
    "A primary advantage of Linear Regression lies in its interpretability and ease of implementation. It is extensively utilized in various domains such as finance, economics, environmental science, and many more, due to its capability to determine the significance and impact of different independent variables on the dependent variable.\n",
    "\n",
    "As we traverse through this notebook, we will delve deeper into the intricacies of Linear Regression, exploring its mathematical foundations, assumptions, and practical implementation. Together, we will unravel the nuances that make Linear Regression an essential tool in the data scientist’s arsenal, and apply this knowledge to make accurate predictions on real-world data."
   ]
  },
  {
   "cell_type": "markdown",
   "id": "a5685426",
   "metadata": {
    "papermill": {
     "duration": 0.004123,
     "end_time": "2023-10-22T17:26:48.091184",
     "exception": false,
     "start_time": "2023-10-22T17:26:48.087061",
     "status": "completed"
    },
    "tags": []
   },
   "source": [
    "## **Step 1:** Import necessary libraries\n",
    "\n",
    "* Import NumPy for numerical operations.\n",
    "* Import Matplotlib for data visualization.\n",
    "* Import train_test_split and LinearRegression from scikit-learn for dataset splitting and linear regression modeling."
   ]
  },
  {
   "cell_type": "code",
   "execution_count": 1,
   "id": "6af4299a",
   "metadata": {
    "execution": {
     "iopub.execute_input": "2023-10-22T17:26:48.101281Z",
     "iopub.status.busy": "2023-10-22T17:26:48.100887Z",
     "iopub.status.idle": "2023-10-22T17:26:49.557889Z",
     "shell.execute_reply": "2023-10-22T17:26:49.556822Z"
    },
    "papermill": {
     "duration": 1.465289,
     "end_time": "2023-10-22T17:26:49.560704",
     "exception": false,
     "start_time": "2023-10-22T17:26:48.095415",
     "status": "completed"
    },
    "tags": []
   },
   "outputs": [],
   "source": [
    "# Step 1: Import necessary libraries\n",
    "import numpy as np\n",
    "import matplotlib.pyplot as plt\n",
    "from sklearn.model_selection import train_test_split\n",
    "from sklearn.linear_model import LinearRegression"
   ]
  },
  {
   "cell_type": "markdown",
   "id": "34aa828e",
   "metadata": {
    "papermill": {
     "duration": 0.004506,
     "end_time": "2023-10-22T17:26:49.570274",
     "exception": false,
     "start_time": "2023-10-22T17:26:49.565768",
     "status": "completed"
    },
    "tags": []
   },
   "source": [
    "## **Step 2:** Generate or load your dataset\n",
    "\n",
    "Create a synthetic dataset with random data points. Replace this step with loading your own dataset."
   ]
  },
  {
   "cell_type": "markdown",
   "id": "ab6cc0e8",
   "metadata": {
    "papermill": {
     "duration": 0.004974,
     "end_time": "2023-10-22T17:26:49.579489",
     "exception": false,
     "start_time": "2023-10-22T17:26:49.574515",
     "status": "completed"
    },
    "tags": []
   },
   "source": [
    "### **Random Seed:** \n",
    "NumPy is a popular Python library for numerical computations, and it includes a sub-module called `numpy.random` that provides various functions for generating random numbers. When working with random numbers, it's often crucial to set a seed value for reproducibility, ensuring that your code produces the same random values each time it's run. The `numpy.random.seed()` function is used to set the seed for the random number generator in NumPy. Here's a step-by-step explanation of how to use it:\n",
    "\n",
    "1. **Import NumPy**:\n",
    "   Before you can use any NumPy functions, including the random number generator, you need to import the NumPy library. You can do this by adding the following line at the beginning of your Python script:\n",
    "\n",
    "   ```python\n",
    "   import numpy as np\n",
    "   ```\n",
    "\n",
    "   Here, we use the common alias \"np\" to refer to the NumPy library.\n",
    "\n",
    "2. **Set the Random Seed**:\n",
    "   To set the random seed, you need to call the `numpy.random.seed()` function. This function takes an integer value (the seed) as an argument. The seed value is the initial state for the random number generator. Here's how to set the seed to a specific integer (e.g., 42):\n",
    "\n",
    "   ```python\n",
    "   np.random.seed(42)\n",
    "   ```\n",
    "\n",
    "   By setting the seed to the same value in different runs of your code, you ensure that the random numbers generated are the same each time.\n",
    "\n",
    "3. **Generate Random Numbers**:\n",
    "   With the seed set, you can use the various random number generation functions provided by NumPy. For example, you can generate random integers, random floats, or random arrays. Here's an example of generating a random integer between 0 and 100:\n",
    "\n",
    "   ```python\n",
    "   random_int = np.random.randint(0, 101)  # Generates a random integer between 0 and 100 (inclusive).\n",
    "   ```\n",
    "\n",
    "4. **Reproducibility**:\n",
    "   The key advantage of setting the seed is reproducibility. When you run the same code with the same seed, it will produce the same random numbers. This can be immensely useful in research, testing, and debugging, where you want to ensure that the code's behavior remains consistent.\n",
    "\n",
    "5. **Changing the Seed**:\n",
    "   If you want to generate a different set of random numbers, you can simply change the seed value. For instance, setting the seed to 123 instead of 42 would yield a different sequence of random numbers:\n",
    "\n",
    "   ```python\n",
    "   np.random.seed(123)\n",
    "   ```\n",
    "\n",
    "   After changing the seed, any subsequent calls to random number generation functions will produce different values.\n",
    "\n",
    "6. **Not Setting the Seed**:\n",
    "   If you don't set the seed explicitly, NumPy will use a system-generated seed (usually based on the system time), which will result in different random values each time you run your code. This is useful when true randomness is required.\n",
    "\n",
    "``` the `numpy.random.seed()` function allows you to control the randomness in your code by setting the initial state of the random number generator. This can be crucial for reproducibility and consistency in various scientific and data analysis applications.```"
   ]
  },
  {
   "cell_type": "code",
   "execution_count": 2,
   "id": "b8bea0d3",
   "metadata": {
    "execution": {
     "iopub.execute_input": "2023-10-22T17:26:49.591119Z",
     "iopub.status.busy": "2023-10-22T17:26:49.590265Z",
     "iopub.status.idle": "2023-10-22T17:26:49.596030Z",
     "shell.execute_reply": "2023-10-22T17:26:49.594763Z"
    },
    "papermill": {
     "duration": 0.013803,
     "end_time": "2023-10-22T17:26:49.598014",
     "exception": false,
     "start_time": "2023-10-22T17:26:49.584211",
     "status": "completed"
    },
    "tags": []
   },
   "outputs": [],
   "source": [
    "# Step 2: Generate or load your dataset\n",
    "# In this example, we'll create a synthetic dataset.\n",
    "# You can replace this with your own dataset.\n",
    "np.random.seed(0)\n",
    "X = 2 * np.random.rand(100, 1)\n",
    "y = 4 + 3 * X + np.random.rand(100, 1)"
   ]
  },
  {
   "cell_type": "markdown",
   "id": "8e814183",
   "metadata": {
    "papermill": {
     "duration": 0.004356,
     "end_time": "2023-10-22T17:26:49.607216",
     "exception": false,
     "start_time": "2023-10-22T17:26:49.602860",
     "status": "completed"
    },
    "tags": []
   },
   "source": [
    "## **Step 3:** Split the data into training and testing sets:\n",
    "\n",
    "Split the dataset into training and testing sets using the train_test_split function. In this example, 80% of the data is used for training, and 20% is used for testing."
   ]
  },
  {
   "cell_type": "markdown",
   "id": "4c6e62ca",
   "metadata": {
    "papermill": {
     "duration": 0.004365,
     "end_time": "2023-10-22T17:26:49.616180",
     "exception": false,
     "start_time": "2023-10-22T17:26:49.611815",
     "status": "completed"
    },
    "tags": []
   },
   "source": [
    "### **Different Types Of Datasets Splitting Methods**\n",
    "\n",
    "There are several methods for splitting datasets for machine learning and data analysis. Each method serves different purposes and has its advantages and disadvantages. Here are some common dataset splitting methods, along with step-by-step explanations for each:\n",
    "\n",
    "1. **Train-Test Split (Holdout Method)**:\n",
    "   - Purpose: To create two separate sets, one for training and one for testing the model.\n",
    "   - Steps:\n",
    "     1. Randomly shuffle the dataset to ensure the data is well-distributed.\n",
    "     2. Split the data into two parts, typically with a ratio like 70-30 or 80-20, where one part is for training and the other for testing.\n",
    "     3. Train your machine learning model on the training set.\n",
    "     4. Evaluate the model's performance on the test set.\n",
    "\n",
    "2. **K-Fold Cross-Validation**:\n",
    "   - Purpose: To assess the model's performance by training and testing it on different subsets of the data.\n",
    "   - Steps:\n",
    "     1. Divide the dataset into k equal-sized folds.\n",
    "     2. For each fold (1 to k), treat it as a test set, and the remaining (k-1) folds as the training set.\n",
    "     3. Train and evaluate the model on each of the k iterations.\n",
    "     4. Calculate performance metrics (e.g., accuracy) by averaging the results from all iterations.\n",
    "\n",
    "3. **Stratified Sampling**:\n",
    "   - Purpose: To ensure that the proportion of different classes in the dataset is maintained in the train and test sets.\n",
    "   - Steps:\n",
    "     1. Identify the target variable (e.g., class labels).\n",
    "     2. Stratify the data by the target variable to create representative subsets.\n",
    "     3. Perform a train-test split on these stratified subsets to maintain class balance in both sets.\n",
    "\n",
    "4. **Time Series Split**:\n",
    "   - Purpose: For time series data, where the order of data points matters.\n",
    "   - Steps:\n",
    "     1. Sort the dataset based on the time or date variable.\n",
    "     2. Divide the data into training and testing sets such that the training set consists of past data, and the testing set contains future data.\n",
    "\n",
    "5. **Leave-One-Out Cross-Validation (LOOCV)**:\n",
    "   - Purpose: To leave out a single data point as the test set in each iteration.\n",
    "   - Steps:\n",
    "     1. For each data point in the dataset, create a training set with all other data points.\n",
    "     2. Train and test the model for each data point separately.\n",
    "     3. Calculate the performance metrics based on the predictions from each iteration.\n",
    "\n",
    "6. **Group K-Fold Cross-Validation**:\n",
    "   - Purpose: To account for groups or clusters in the data.\n",
    "   - Steps:\n",
    "     1. Identify the group or cluster variable (e.g., patient ID).\n",
    "     2. Divide the data into folds while ensuring that each fold contains all data points from a specific group.\n",
    "     3. Train and test the model using group-based cross-validation.\n",
    "\n",
    "7. **Bootstrapping**:\n",
    "   - Purpose: To create multiple subsets of the data with replacement for estimating model performance.\n",
    "   - Steps:\n",
    "     1. Randomly sample data points with replacement to create multiple bootstrap samples.\n",
    "     2. Train and evaluate the model on each bootstrap sample.\n",
    "     3. Calculate performance metrics based on the results of each sample.\n",
    "\n",
    "The choice of dataset splitting method depends on the specific problem, data characteristics, and the goal of your analysis. It's important to select an appropriate method to ensure reliable model evaluation and generalization."
   ]
  },
  {
   "cell_type": "code",
   "execution_count": 3,
   "id": "db551130",
   "metadata": {
    "execution": {
     "iopub.execute_input": "2023-10-22T17:26:49.626666Z",
     "iopub.status.busy": "2023-10-22T17:26:49.626326Z",
     "iopub.status.idle": "2023-10-22T17:26:49.634451Z",
     "shell.execute_reply": "2023-10-22T17:26:49.633377Z"
    },
    "papermill": {
     "duration": 0.016079,
     "end_time": "2023-10-22T17:26:49.636709",
     "exception": false,
     "start_time": "2023-10-22T17:26:49.620630",
     "status": "completed"
    },
    "tags": []
   },
   "outputs": [],
   "source": [
    "# Step 3: Split the data into training and testing sets\n",
    "X_train, X_test, y_train, y_test = train_test_split(X, y, test_size=0.2, random_state=42)"
   ]
  },
  {
   "cell_type": "markdown",
   "id": "f87047c5",
   "metadata": {
    "papermill": {
     "duration": 0.004301,
     "end_time": "2023-10-22T17:26:49.645637",
     "exception": false,
     "start_time": "2023-10-22T17:26:49.641336",
     "status": "completed"
    },
    "tags": []
   },
   "source": [
    "## **Step 4:** Create a Linear Regression model\n",
    "Initialize a Linear Regression model using ```LinearRegression().```"
   ]
  },
  {
   "cell_type": "markdown",
   "id": "cb31ed70",
   "metadata": {
    "papermill": {
     "duration": 0.004131,
     "end_time": "2023-10-22T17:26:49.654064",
     "exception": false,
     "start_time": "2023-10-22T17:26:49.649933",
     "status": "completed"
    },
    "tags": []
   },
   "source": [
    "#### **Here are the key steps to understand a linear regression model:**\n",
    "\n",
    "1. **Data Collection**: Gather the dataset containing the relevant information you want to model. For simple linear regression, you typically have one dependent variable (the target) and one independent variable (the predictor). In multiple linear regression, you have multiple independent variables.\n",
    "\n",
    "2. **Data Preprocessing**:\n",
    "\n",
    "   a. **Data Cleaning**: Check for missing values and outliers. Handle them appropriately, e.g., by imputing missing data or removing outliers.\n",
    "   \n",
    "   b. **Feature Selection/Engineering**: Determine which independent variables are relevant for your model. You might need to transform or engineer features to make them suitable for regression.\n",
    "\n",
    "3. **Scatterplot**: Visualize the data by creating a scatterplot of the dependent variable against the independent variable(s) to get an initial sense of the relationship.\n",
    "\n",
    "4. **Assumption Check**: Linear regression makes several assumptions, including linearity, independence of errors, homoscedasticity, and normality of errors. You should check if your data satisfies these assumptions. If not, you may need to apply transformations or consider different modeling techniques.\n",
    "\n",
    "5. **Split Data**: Divide your dataset into a training set and a testing set. The training set is used to train the model, and the testing set is used to evaluate its performance.\n",
    "\n",
    "6. **Model Building**:\n",
    "\n",
    "   a. **Choose the Model**: Select either simple linear regression (one independent variable) or multiple linear regression (more than one independent variable).\n",
    "\n",
    "   b. **Fit the Model**: Use the training data to estimate the coefficients (slope and intercept for simple linear regression) that minimize the sum of squared differences between the observed and predicted values.\n",
    "\n",
    "   c. **Interpret the Coefficients**: Understand the meaning of the coefficients for each independent variable. They represent the change in the dependent variable for a one-unit change in the corresponding independent variable, assuming all other variables are held constant.\n",
    "\n",
    "7. **Model Evaluation**:\n",
    "\n",
    "   a. **Assess Model Fit**: Use appropriate metrics like Mean Squared Error (MSE), Root Mean Squared Error (RMSE), or R-squared to evaluate how well your model fits the training data.\n",
    "\n",
    "   b. **Test the Model**: Apply the model to the testing set to assess its predictive accuracy on unseen data.\n",
    "\n",
    "8. **Model Interpretation**:\n",
    "\n",
    "   a. **Coefficient Significance**: Determine if the coefficients are statistically significant using hypothesis tests.\n",
    "   \n",
    "   b. **Coefficient Interpretation**: Interpret the coefficients in the context of your problem to make meaningful conclusions.\n",
    "\n",
    "9. **Prediction and Inference**: Use the model to make predictions or draw inferences about the relationship between the dependent and independent variables.\n",
    "\n",
    "10. **Model Deployment** (if applicable): If the model performs well and is valuable, it can be deployed in production for real-world predictions.\n",
    "\n",
    "11. **Regularization** (if needed): In some cases, you might apply regularization techniques like Ridge or Lasso regression to prevent overfitting or handle multicollinearity.\n",
    "\n",
    "12. **Continuous Improvement**: As new data becomes available, you may need to retrain the model to keep it accurate and relevant.\n",
    "\n",
    "These steps outline the process of building and using a linear regression model. The actual implementation in Python or any other programming language involves writing code to carry out these steps."
   ]
  },
  {
   "cell_type": "code",
   "execution_count": 4,
   "id": "758d79bf",
   "metadata": {
    "execution": {
     "iopub.execute_input": "2023-10-22T17:26:49.664632Z",
     "iopub.status.busy": "2023-10-22T17:26:49.663925Z",
     "iopub.status.idle": "2023-10-22T17:26:49.668941Z",
     "shell.execute_reply": "2023-10-22T17:26:49.668122Z"
    },
    "papermill": {
     "duration": 0.013371,
     "end_time": "2023-10-22T17:26:49.671690",
     "exception": false,
     "start_time": "2023-10-22T17:26:49.658319",
     "status": "completed"
    },
    "tags": []
   },
   "outputs": [],
   "source": [
    "# Step 4: Create a Linear Regression model\n",
    "model = LinearRegression()"
   ]
  },
  {
   "cell_type": "markdown",
   "id": "e776e653",
   "metadata": {
    "papermill": {
     "duration": 0.004359,
     "end_time": "2023-10-22T17:26:49.680971",
     "exception": false,
     "start_time": "2023-10-22T17:26:49.676612",
     "status": "completed"
    },
    "tags": []
   },
   "source": [
    "## **Step 5:** Train the model on the training data\n",
    "\n",
    "Fit the model to the training data using the fit method."
   ]
  },
  {
   "cell_type": "code",
   "execution_count": 5,
   "id": "54005b0b",
   "metadata": {
    "execution": {
     "iopub.execute_input": "2023-10-22T17:26:49.691880Z",
     "iopub.status.busy": "2023-10-22T17:26:49.691500Z",
     "iopub.status.idle": "2023-10-22T17:26:49.723319Z",
     "shell.execute_reply": "2023-10-22T17:26:49.722042Z"
    },
    "papermill": {
     "duration": 0.040187,
     "end_time": "2023-10-22T17:26:49.725730",
     "exception": false,
     "start_time": "2023-10-22T17:26:49.685543",
     "status": "completed"
    },
    "tags": []
   },
   "outputs": [
    {
     "data": {
      "text/html": [
       "<style>#sk-container-id-1 {color: black;background-color: white;}#sk-container-id-1 pre{padding: 0;}#sk-container-id-1 div.sk-toggleable {background-color: white;}#sk-container-id-1 label.sk-toggleable__label {cursor: pointer;display: block;width: 100%;margin-bottom: 0;padding: 0.3em;box-sizing: border-box;text-align: center;}#sk-container-id-1 label.sk-toggleable__label-arrow:before {content: \"▸\";float: left;margin-right: 0.25em;color: #696969;}#sk-container-id-1 label.sk-toggleable__label-arrow:hover:before {color: black;}#sk-container-id-1 div.sk-estimator:hover label.sk-toggleable__label-arrow:before {color: black;}#sk-container-id-1 div.sk-toggleable__content {max-height: 0;max-width: 0;overflow: hidden;text-align: left;background-color: #f0f8ff;}#sk-container-id-1 div.sk-toggleable__content pre {margin: 0.2em;color: black;border-radius: 0.25em;background-color: #f0f8ff;}#sk-container-id-1 input.sk-toggleable__control:checked~div.sk-toggleable__content {max-height: 200px;max-width: 100%;overflow: auto;}#sk-container-id-1 input.sk-toggleable__control:checked~label.sk-toggleable__label-arrow:before {content: \"▾\";}#sk-container-id-1 div.sk-estimator input.sk-toggleable__control:checked~label.sk-toggleable__label {background-color: #d4ebff;}#sk-container-id-1 div.sk-label input.sk-toggleable__control:checked~label.sk-toggleable__label {background-color: #d4ebff;}#sk-container-id-1 input.sk-hidden--visually {border: 0;clip: rect(1px 1px 1px 1px);clip: rect(1px, 1px, 1px, 1px);height: 1px;margin: -1px;overflow: hidden;padding: 0;position: absolute;width: 1px;}#sk-container-id-1 div.sk-estimator {font-family: monospace;background-color: #f0f8ff;border: 1px dotted black;border-radius: 0.25em;box-sizing: border-box;margin-bottom: 0.5em;}#sk-container-id-1 div.sk-estimator:hover {background-color: #d4ebff;}#sk-container-id-1 div.sk-parallel-item::after {content: \"\";width: 100%;border-bottom: 1px solid gray;flex-grow: 1;}#sk-container-id-1 div.sk-label:hover label.sk-toggleable__label {background-color: #d4ebff;}#sk-container-id-1 div.sk-serial::before {content: \"\";position: absolute;border-left: 1px solid gray;box-sizing: border-box;top: 0;bottom: 0;left: 50%;z-index: 0;}#sk-container-id-1 div.sk-serial {display: flex;flex-direction: column;align-items: center;background-color: white;padding-right: 0.2em;padding-left: 0.2em;position: relative;}#sk-container-id-1 div.sk-item {position: relative;z-index: 1;}#sk-container-id-1 div.sk-parallel {display: flex;align-items: stretch;justify-content: center;background-color: white;position: relative;}#sk-container-id-1 div.sk-item::before, #sk-container-id-1 div.sk-parallel-item::before {content: \"\";position: absolute;border-left: 1px solid gray;box-sizing: border-box;top: 0;bottom: 0;left: 50%;z-index: -1;}#sk-container-id-1 div.sk-parallel-item {display: flex;flex-direction: column;z-index: 1;position: relative;background-color: white;}#sk-container-id-1 div.sk-parallel-item:first-child::after {align-self: flex-end;width: 50%;}#sk-container-id-1 div.sk-parallel-item:last-child::after {align-self: flex-start;width: 50%;}#sk-container-id-1 div.sk-parallel-item:only-child::after {width: 0;}#sk-container-id-1 div.sk-dashed-wrapped {border: 1px dashed gray;margin: 0 0.4em 0.5em 0.4em;box-sizing: border-box;padding-bottom: 0.4em;background-color: white;}#sk-container-id-1 div.sk-label label {font-family: monospace;font-weight: bold;display: inline-block;line-height: 1.2em;}#sk-container-id-1 div.sk-label-container {text-align: center;}#sk-container-id-1 div.sk-container {/* jupyter's `normalize.less` sets `[hidden] { display: none; }` but bootstrap.min.css set `[hidden] { display: none !important; }` so we also need the `!important` here to be able to override the default hidden behavior on the sphinx rendered scikit-learn.org. See: https://github.com/scikit-learn/scikit-learn/issues/21755 */display: inline-block !important;position: relative;}#sk-container-id-1 div.sk-text-repr-fallback {display: none;}</style><div id=\"sk-container-id-1\" class=\"sk-top-container\"><div class=\"sk-text-repr-fallback\"><pre>LinearRegression()</pre><b>In a Jupyter environment, please rerun this cell to show the HTML representation or trust the notebook. <br />On GitHub, the HTML representation is unable to render, please try loading this page with nbviewer.org.</b></div><div class=\"sk-container\" hidden><div class=\"sk-item\"><div class=\"sk-estimator sk-toggleable\"><input class=\"sk-toggleable__control sk-hidden--visually\" id=\"sk-estimator-id-1\" type=\"checkbox\" checked><label for=\"sk-estimator-id-1\" class=\"sk-toggleable__label sk-toggleable__label-arrow\">LinearRegression</label><div class=\"sk-toggleable__content\"><pre>LinearRegression()</pre></div></div></div></div></div>"
      ],
      "text/plain": [
       "LinearRegression()"
      ]
     },
     "execution_count": 5,
     "metadata": {},
     "output_type": "execute_result"
    }
   ],
   "source": [
    "# Step 5: Train the model on the training data\n",
    "model.fit(X_train, y_train)"
   ]
  },
  {
   "cell_type": "markdown",
   "id": "a729a22b",
   "metadata": {
    "papermill": {
     "duration": 0.004841,
     "end_time": "2023-10-22T17:26:49.736384",
     "exception": false,
     "start_time": "2023-10-22T17:26:49.731543",
     "status": "completed"
    },
    "tags": []
   },
   "source": [
    "## **Step 6:** Make predictions using the test data"
   ]
  },
  {
   "cell_type": "code",
   "execution_count": 6,
   "id": "817d82f1",
   "metadata": {
    "execution": {
     "iopub.execute_input": "2023-10-22T17:26:49.747731Z",
     "iopub.status.busy": "2023-10-22T17:26:49.747425Z",
     "iopub.status.idle": "2023-10-22T17:26:49.752390Z",
     "shell.execute_reply": "2023-10-22T17:26:49.751297Z"
    },
    "papermill": {
     "duration": 0.012848,
     "end_time": "2023-10-22T17:26:49.754210",
     "exception": false,
     "start_time": "2023-10-22T17:26:49.741362",
     "status": "completed"
    },
    "tags": []
   },
   "outputs": [],
   "source": [
    "# Step 6: Make predictions using the test data\n",
    "y_pred = model.predict(X_test)"
   ]
  },
  {
   "cell_type": "markdown",
   "id": "2bdc9653",
   "metadata": {
    "papermill": {
     "duration": 0.004832,
     "end_time": "2023-10-22T17:26:49.764193",
     "exception": false,
     "start_time": "2023-10-22T17:26:49.759361",
     "status": "completed"
    },
    "tags": []
   },
   "source": [
    "## **Step 7:** Visualize the data and the regression line\n",
    "Create a scatter plot of the test data and the regression line to visualize the model's performance."
   ]
  },
  {
   "cell_type": "code",
   "execution_count": 7,
   "id": "5ff05b6e",
   "metadata": {
    "execution": {
     "iopub.execute_input": "2023-10-22T17:26:49.775507Z",
     "iopub.status.busy": "2023-10-22T17:26:49.775140Z",
     "iopub.status.idle": "2023-10-22T17:26:50.054862Z",
     "shell.execute_reply": "2023-10-22T17:26:50.053995Z"
    },
    "papermill": {
     "duration": 0.287802,
     "end_time": "2023-10-22T17:26:50.056894",
     "exception": false,
     "start_time": "2023-10-22T17:26:49.769092",
     "status": "completed"
    },
    "tags": []
   },
   "outputs": [
    {
     "data": {
      "image/png": "[encoded data removed]",
      "text/plain": [
       "<Figure size 640x480 with 1 Axes>"
      ]
     },
     "metadata": {},
     "output_type": "display_data"
    }
   ],
   "source": [
    "plt.scatter(X_test, y_test, color='b', label='Actual Data')\n",
    "plt.plot(X_test, y_pred, color='r', label='Regression Line')\n",
    "plt.xlabel('X-axis')\n",
    "plt.ylabel('Y-axis')\n",
    "plt.legend()\n",
    "plt.title('Linear Regression')\n",
    "plt.show()"
   ]
  },
  {
   "cell_type": "markdown",
   "id": "bf2cbdc8",
   "metadata": {
    "papermill": {
     "duration": 0.00556,
     "end_time": "2023-10-22T17:26:50.067830",
     "exception": false,
     "start_time": "2023-10-22T17:26:50.062270",
     "status": "completed"
    },
    "tags": []
   },
   "source": [
    "## **Step 8:** Evaluate the model\n",
    "Calculate Mean Squared Error (MSE) and R-squared (R2) to evaluate the model's performance on the test data and print the results."
   ]
  },
  {
   "cell_type": "markdown",
   "id": "0c013af5",
   "metadata": {
    "papermill": {
     "duration": 0.005175,
     "end_time": "2023-10-22T17:26:50.078815",
     "exception": false,
     "start_time": "2023-10-22T17:26:50.073640",
     "status": "completed"
    },
    "tags": []
   },
   "source": [
    "### **1. Mean Squared Error (MSE):**\n",
    "\n",
    "Mean Squared Error (MSE) is a common mathematical metric used in statistics and machine learning to measure the average squared difference between predicted values and actual (observed) values. It is particularly useful for evaluating the accuracy and performance of regression models. Here, I will explain the concept of MSE step by step:\n",
    "\n",
    "**Step 1: Define Your Objective**\n",
    "The first step in understanding and using MSE is to establish your objective. You should have a set of observed or actual values (often denoted as \"y\") and a set of predicted values (often denoted as \"ŷ\"). The goal is to quantify how well your predictions match the actual values.\n",
    "\n",
    "**Step 2: Calculate the Residuals**\n",
    "Residuals, also known as errors, are the differences between the actual values (y) and the predicted values (ŷ) for each data point. You calculate residuals for each data point using the following formula:\n",
    "```\n",
    "Residual = y - ŷ\n",
    "```\n",
    "For each data point, subtract the predicted value from the actual value.\n",
    "\n",
    "**Step 3: Square the Residuals**\n",
    "To eliminate the positive and negative differences, you square each residual. Squaring the residuals ensures that all values are positive and gives more weight to larger errors, making the metric sensitive to outliers.\n",
    "\n",
    "**Step 4: Calculate the Mean**\n",
    "Calculate the mean (average) of the squared residuals. This is done by summing up all the squared residuals and dividing by the total number of data points (n):\n",
    "```\n",
    "MSE = (1/n) * Σ(Residual_i^2)\n",
    "```\n",
    "Here, \"Σ\" denotes the sum from i = 1 to n.\n",
    "\n",
    "**Step 5: Interpretation**\n",
    "The MSE provides a single number that quantifies the overall quality of your predictions. It measures the average squared difference between predicted and actual values. A smaller MSE indicates a better fit of the model to the data, while a larger MSE suggests a poorer fit.\n",
    "\n",
    "**Step 6: Practical Application**\n",
    "MSE is commonly used for model evaluation in various fields, such as:\n",
    "\n",
    "- **Regression Analysis:** It assesses the goodness of fit of a regression model.\n",
    "- **Machine Learning:** It serves as a loss function for training models like linear regression, neural networks, and support vector machines.\n",
    "- **Forecasting:** It measures the accuracy of time series forecasts.\n",
    "- **Image and Signal Processing:** It quantifies the quality of image reconstruction or signal denoising.\n",
    "\n",
    "**Step 7: Limitations**\n",
    "While MSE is a valuable metric, it has some limitations:\n",
    "\n",
    "- It heavily penalizes large errors due to squaring, making it sensitive to outliers.\n",
    "- The MSE value is not in the same unit as the original data, which can make it challenging to interpret.\n",
    "- In cases where the prediction errors are not normally distributed, alternative metrics like Mean Absolute Error (MAE) or Root Mean Squared Error (RMSE) might be more appropriate.\n"
   ]
  },
  {
   "cell_type": "markdown",
   "id": "515afa05",
   "metadata": {
    "papermill": {
     "duration": 0.005018,
     "end_time": "2023-10-22T17:26:50.089330",
     "exception": false,
     "start_time": "2023-10-22T17:26:50.084312",
     "status": "completed"
    },
    "tags": []
   },
   "source": [
    "### **2. R-squared (R²):**\n",
    "R-squared (R²) is a statistical measure used in regression analysis to evaluate the goodness of fit of a model. It helps us understand how well the independent variables in a regression model explain the variation in the dependent variable. R-squared is often used in fields such as economics, finance, and social sciences, but it can be applied in a wide range of disciplines. Here's a step-by-step explanation of what R-squared is and how it is calculated:\n",
    "\n",
    "1. **Understand the Basics of Regression Analysis:**\n",
    "   Before delving into R-squared, it's essential to understand the basics of regression analysis. Regression is a statistical technique used to model the relationship between one or more independent variables (predictors) and a dependent variable (the outcome). There are different types of regression, but the most common one is linear regression.\n",
    "\n",
    "2. **Formulate a Hypothesis:**\n",
    "   In a regression analysis, you start with a hypothesis or a belief that certain independent variables have an effect on the dependent variable. For example, you might believe that factors like age, income, and education level influence a person's health.\n",
    "\n",
    "3. **Collect Data:**\n",
    "   To test your hypothesis, you need data. Collect data for the dependent variable and the independent variables. In our health example, you'd gather data on individuals' health status, age, income, and education level.\n",
    "\n",
    "4. **Build a Regression Model:**\n",
    "   Use a statistical software or tool to create a regression model. For simple linear regression, you'll have one independent variable, and for multiple linear regression, you'll have more than one. The model's equation might look like this:\n",
    "   `Health = β₀ + β₁ * Age + β₂ * Income + β₃ * Education`\n",
    "\n",
    "5. **Calculate the Sum of Squares Total (SST):**\n",
    "   SST represents the total variation in the dependent variable. It's calculated as the sum of the squared differences between each data point and the mean of the dependent variable.\n",
    "\n",
    "6. **Calculate the Sum of Squares Regression (SSR):**\n",
    "   SSR represents the variation in the dependent variable that your model explains. It's calculated as the sum of the squared differences between the predicted values from your model and the mean of the dependent variable.\n",
    "\n",
    "7. **Calculate the Residual Sum of Squares (SSE):**\n",
    "   SSE represents the unexplained variation or error in your model. It's calculated as the sum of the squared differences between the actual data points and the predicted values from your model.\n",
    "\n",
    "8. **Compute R-squared (R²):**\n",
    "   R-squared is calculated as the ratio of SSR to SST. In other words, it tells you what proportion of the total variation in the dependent variable is explained by your model. The formula for R-squared is:\n",
    "   `R² = 1 - (SSE / SST)`\n",
    "\n",
    "9. **Interpret R-squared:**\n",
    "   R-squared values range from 0 to 1. A higher R-squared indicates that a larger proportion of the variation in the dependent variable is explained by the independent variables. An R-squared of 1 means that the model perfectly explains all the variation.\n",
    "\n",
    "10. **Consider the Implications:**\n",
    "    While R-squared is a valuable metric, it's important to use it in context. A high R-squared doesn't necessarily mean your model is good; it might overfit the data. Conversely, a low R-squared doesn't necessarily mean your model is bad; it may still provide valuable insights.\n",
    "\n",
    "11. **Assess Model Fit:**\n",
    "    It's advisable to complement R-squared with other statistical tests, such as hypothesis testing for individual coefficients and residual analysis, to ensure that your regression model is valid and appropriate for your data.\n",
    "\n",
    "```R-squared is a fundamental metric in regression analysis that helps you assess how well your model explains the variation in the dependent variable. By following the steps above and interpreting the R-squared value in the context of your research, you can gain insights into the relationships between variables and the predictive power of your model.```"
   ]
  },
  {
   "cell_type": "code",
   "execution_count": 8,
   "id": "e9bbf907",
   "metadata": {
    "execution": {
     "iopub.execute_input": "2023-10-22T17:26:50.102214Z",
     "iopub.status.busy": "2023-10-22T17:26:50.101569Z",
     "iopub.status.idle": "2023-10-22T17:26:50.108556Z",
     "shell.execute_reply": "2023-10-22T17:26:50.107001Z"
    },
    "papermill": {
     "duration": 0.015867,
     "end_time": "2023-10-22T17:26:50.110569",
     "exception": false,
     "start_time": "2023-10-22T17:26:50.094702",
     "status": "completed"
    },
    "tags": []
   },
   "outputs": [
    {
     "name": "stdout",
     "output_type": "stream",
     "text": [
      "Mean Squared Error: 0.07\n",
      "R-squared: 0.97\n"
     ]
    }
   ],
   "source": [
    "from sklearn.metrics import mean_squared_error, r2_score\n",
    "mse = mean_squared_error(y_test, y_pred)\n",
    "r2 = r2_score(y_test, y_pred)\n",
    "print(f\"Mean Squared Error: {mse:.2f}\")\n",
    "print(f\"R-squared: {r2:.2f}\")"
   ]
  },
  {
   "cell_type": "markdown",
   "id": "25c57c2c",
   "metadata": {
    "papermill": {
     "duration": 0.005068,
     "end_time": "2023-10-22T17:26:50.121242",
     "exception": false,
     "start_time": "2023-10-22T17:26:50.116174",
     "status": "completed"
    },
    "tags": []
   },
   "source": [
    "## Learn More\n",
    "Here are a few more basic and fundamental Python topics I tried to cover.\n",
    "\n",
    "- **[Comprehensive Guide on NumPy for Beginners](https://www.kaggle.com/code/tanvirnwu/boolean-in-python-with-example-and-explanation)**\n",
    "- **[Dictionary in Python with Examples & Explanations](https://www.kaggle.com/code/tanvirnwu/dictionary-in-python-with-examples-explanationsn)**\n",
    "- **[Boolean in Python with Example and Explanation](https://www.kaggle.com/code/tanvirnwu/boolean-in-python-with-example-and-explanation#Learn-More)**\n",
    "- **[List in Python for Beginners](https://www.kaggle.com/code/tanvirnwu/list-in-python-for-beginners)**\n",
    "\n",
    "\n",
    "#### I love to connect with new people. Let's connect on **[Linkedin.](https://www.linkedin.com/in/tanvirislamnwu/)**\n",
    "#### ***Please leave an upvote if you think these are some helpful materials for the beginners. Thank you!!***\n"
   ]
  },
  {
   "cell_type": "code",
   "execution_count": null,
   "id": "a64423fe",
   "metadata": {
    "papermill": {
     "duration": 0.004899,
     "end_time": "2023-10-22T17:26:50.131316",
     "exception": false,
     "start_time": "2023-10-22T17:26:50.126417",
     "status": "completed"
    },
    "tags": []
   },
   "outputs": [],
   "source": []
  },
  {
   "cell_type": "code",
   "execution_count": null,
   "id": "7d577b86",
   "metadata": {
    "papermill": {
     "duration": 0.00498,
     "end_time": "2023-10-22T17:26:50.141715",
     "exception": false,
     "start_time": "2023-10-22T17:26:50.136735",
     "status": "completed"
    },
    "tags": []
   },
   "outputs": [],
   "source": []
  }
 ],
 "metadata": {
  "kernelspec": {
   "display_name": "Python 3",
   "language": "python",
   "name": "python3"
  },
  "language_info": {
   "codemirror_mode": {
    "name": "ipython",
    "version": 3
   },
   "file_extension": ".py",
   "mimetype": "text/x-python",
   "name": "python",
   "nbconvert_exporter": "python",
   "pygments_lexer": "ipython3",
   "version": "3.10.12"
  },
  "papermill": {
   "default_parameters": {},
   "duration": 5.32873,
   "end_time": "2023-10-22T17:26:50.567651",
   "environment_variables": {},
   "exception": null,
   "input_path": "__notebook__.ipynb",
   "output_path": "__notebook__.ipynb",
   "parameters": {},
   "start_time": "2023-10-22T17:26:45.238921",
   "version": "2.4.0"
  }
 },
 "nbformat": 4,
 "nbformat_minor": 5
}
